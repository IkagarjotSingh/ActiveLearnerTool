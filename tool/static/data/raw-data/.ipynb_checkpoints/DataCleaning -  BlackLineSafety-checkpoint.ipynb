{
 "cells": [
  {
   "cell_type": "code",
   "execution_count": 9,
   "metadata": {
    "scrolled": true
   },
   "outputs": [],
   "source": [
    "#Just Data Cleaning......\n",
    "\n",
    "import warnings\n",
    "import numpy as np\n",
    "import random\n",
    "import pandas as pd\n",
    "\n",
    "pd.set_option('display.max_columns', 500)   #To make sure all the columns are visible in the logs.\n",
    "pd.set_option('display.width', 1000)\n",
    "\n",
    "warnings.simplefilter(action='ignore', category=FutureWarning)\n",
    "ifileName = 'raw-data/ToExcelFunctional.xlsx'  \n",
    "ofileName = 'blackLineSafety-NoHeirarchy.csv'  \n",
    "\n",
    "input_df = pd.read_excel(ifileName,encoding=\"utf-8\")  #Read data from csv and save it as a DataFrame\n",
    "#input_df = input_df.replace(np.nan, '', regex=True)\n",
    "temp_df = pd.DataFrame(columns=['RQ','Description','Comments'])\n",
    "\n",
    "for i_index,i_row in input_df.iterrows():  #Taking one row or requirement at a time\n",
    "    value = i_row['Requirements'].replace(u'\\xa0',u'')  #Replace the non breaking spaces with '' or change the data encoding to utf-8.\n",
    "    #value = value.replace(u\"\\u0027\",u'')  #Replace ' special character\n",
    "    word_list = value.strip().split(' ')\n",
    "    current_id = word_list[0]   #First value is always the requirement id   [:-1] removes the last . for all id's\n",
    "    current_desc = \" \".join(word_list[1:])   #rest of the string values form the description of the requirement.\n",
    "    \n",
    "    comment = str(i_row['Comments'])\n",
    "    \n",
    "    temp_df = temp_df.append({'RQ':current_id,'Description':current_desc,'Comments':comment},ignore_index=True)   #Add new values in DataFrame\n",
    "\n",
    "temp_df.to_csv(ofileName,index=False,encoding = 'utf-8')\n",
    "#temp_df"
   ]
  },
  {
   "cell_type": "code",
   "execution_count": 2,
   "metadata": {},
   "outputs": [],
   "source": [
    "ifileName = 'blackLineSafety-NoHeirarchy.csv'  \n",
    "ofileName = 'blackLineSafety-WithHeirarchy.csv'\n",
    "    \n",
    "input_df = pd.read_csv(ifileName,encoding=\"utf-8\")  #Read data from csv and save it as a DataFrame\n",
    "temp_Df = pd.DataFrame(columns=['RQ','Description','Comments'])   #Create a new dataframe to add data after concatenating the headings to subheadings.\n",
    "    \n",
    "#create dummy variables and initial them to empty string values\n",
    "req_id = \" \"\n",
    "req_desc = \"\"\n",
    "req_cmt = \"\"\n",
    "subreq_id = \" \"\n",
    "subreq_desc = \"\"\n",
    "subreq_cmt = \"\"\n",
    "\n",
    "for i_index,i_row in input_df.iterrows():\n",
    "    current_id = i_row['RQ']\n",
    "    current_desc = i_row['Description']\n",
    "    current_cmt = i_row['Comments']\n",
    "    \n",
    "    if req_id in current_id : \n",
    "        if subreq_id in current_id : \n",
    "            current_id = req_id + \";\" + subreq_id + \";\" + current_id\n",
    "            current_desc = req_desc + \";\" + subreq_desc + \";\" + current_desc\n",
    "            current_cmt = str(req_cmt) + \";\" + str(subreq_cmt) + \";\"+ str(current_cmt)\n",
    "        else:\n",
    "            subreq_id = current_id\n",
    "            subreq_desc = current_desc\n",
    "            current_id = req_id + \";\" + current_id\n",
    "            current_desc = req_desc +\";\" + current_desc\n",
    "            current_cmt = str(req_cmt) +\";\" + str(current_cmt)\n",
    "    else :\n",
    "        req_desc = str(current_desc)\n",
    "        req_id = current_id\n",
    "        req_cmt = str(current_cmt)\n",
    "\n",
    "    temp_Df = temp_Df.append({'RQ':current_id,'Description':current_desc,'Comments':current_cmt},ignore_index=True)   #Add new values in DataFrame\n",
    "\n",
    "temp_Df.to_csv(ofileName,index=False)"
   ]
  },
  {
   "cell_type": "code",
   "execution_count": 3,
   "metadata": {},
   "outputs": [],
   "source": [
    "ifileName = 'blackLineSafety-WithHeirarchy.csv'\n",
    "ofileName = 'blackLineSafety-LowestLevel.csv'\n",
    "    \n",
    "input_df = pd.read_csv(ifileName,encoding=\"utf-8\")  #Read data from csv and save it as a DataFrame\n",
    "\n",
    "final_Df = pd.DataFrame(columns=['RQ','Description','Comments'])   #Create a new dataframe to add data after concatenating the headings to subheadings.\n",
    "    \n",
    "for i in range(len(input_df.index)):\n",
    "    current_id = input_df.loc[i,'RQ']\n",
    "    try:\n",
    "        next_id = input_df.loc[i+1,'RQ']\n",
    "    except KeyError:   #df.loc[i+1] doesnt exist... out of bound.\n",
    "        final_Df = final_Df.append({'RQ':input_df.loc[i,'RQ'],'Description':input_df.loc[i,'Description'],'Comments':input_df.loc[i,'Comments']},ignore_index=True)   #Add new values in DataFrame\n",
    "        pass\n",
    "    if current_id not in next_id:\n",
    "        final_Df = final_Df.append({'RQ':input_df.loc[i,'RQ'],'Description':input_df.loc[i,'Description'],'Comments':input_df.loc[i,'Comments']},ignore_index=True)   #Add new values in DataFrame\n",
    "        \n",
    "final_Df.to_csv(ofileName,index=False)"
   ]
  },
  {
   "cell_type": "code",
   "execution_count": 4,
   "metadata": {},
   "outputs": [
    {
     "name": "stdout",
     "output_type": "stream",
     "text": [
      "            24.7.        Notification profile pages won’t need to change fundamentally. We’ll need to add toggle settings for motion alert and a pump blocked (specify inlet)\n"
     ]
    }
   ],
   "source": [
    "str1=\"            24.7.        Notification profile pages won’t need to change fundamentally. We’ll need to add toggle settings for motion alert and a pump blocked (specify inlet)\"\n",
    "print (str1)"
   ]
  },
  {
   "cell_type": "code",
   "execution_count": 6,
   "metadata": {},
   "outputs": [
    {
     "data": {
      "text/plain": [
       "' 24.7. Notification profile pages won’t need to change fundamentally. We’ll need to add toggle settings for motion alert and a pump blocked (specify inlet)'"
      ]
     },
     "execution_count": 6,
     "metadata": {},
     "output_type": "execute_result"
    }
   ],
   "source": [
    "value = str1.replace(u'\\xa0',u'')\n",
    "value"
   ]
  },
  {
   "cell_type": "code",
   "execution_count": 7,
   "metadata": {},
   "outputs": [],
   "source": [
    "word_list = value.strip().split(' ')\n",
    "current_id = word_list[0]   #First value is always the requirement id   [:-1] removes the last . for all id's\n",
    "current_desc = \" \".join(word_list[1:])   #rest of the string values form the description of the requirement.\n",
    "    "
   ]
  },
  {
   "cell_type": "code",
   "execution_count": 8,
   "metadata": {},
   "outputs": [
    {
     "data": {
      "text/plain": [
       "'Notification profile pages won’t need to change fundamentally. We’ll need to add toggle settings for motion alert and a pump blocked (specify inlet)'"
      ]
     },
     "execution_count": 8,
     "metadata": {},
     "output_type": "execute_result"
    }
   ],
   "source": [
    "current_desc"
   ]
  },
  {
   "cell_type": "code",
   "execution_count": null,
   "metadata": {},
   "outputs": [],
   "source": []
  }
 ],
 "metadata": {
  "kernelspec": {
   "display_name": "Python 3",
   "language": "python",
   "name": "python3"
  },
  "language_info": {
   "codemirror_mode": {
    "name": "ipython",
    "version": 3
   },
   "file_extension": ".py",
   "mimetype": "text/x-python",
   "name": "python",
   "nbconvert_exporter": "python",
   "pygments_lexer": "ipython3",
   "version": "3.6.5"
  }
 },
 "nbformat": 4,
 "nbformat_minor": 2
}
